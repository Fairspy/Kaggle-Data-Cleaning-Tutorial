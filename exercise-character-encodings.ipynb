{
 "cells": [
  {
   "cell_type": "markdown",
   "id": "5119aa3c",
   "metadata": {
    "papermill": {
     "duration": 0.006407,
     "end_time": "2022-06-23T11:35:49.078593",
     "exception": false,
     "start_time": "2022-06-23T11:35:49.072186",
     "status": "completed"
    },
    "tags": []
   },
   "source": [
    "**This notebook is an exercise in the [Data Cleaning](https://www.kaggle.com/learn/data-cleaning) course.  You can reference the tutorial at [this link](https://www.kaggle.com/alexisbcook/character-encodings).**\n",
    "\n",
    "---\n"
   ]
  },
  {
   "cell_type": "markdown",
   "id": "b73d0621",
   "metadata": {
    "papermill": {
     "duration": 0.005836,
     "end_time": "2022-06-23T11:35:49.090030",
     "exception": false,
     "start_time": "2022-06-23T11:35:49.084194",
     "status": "completed"
    },
    "tags": []
   },
   "source": [
    "In this exercise, you'll apply what you learned in the **Character encodings** tutorial.\n",
    "\n",
    "# Setup\n",
    "\n",
    "The questions below will give you feedback on your work. Run the following cell to set up the feedback system."
   ]
  },
  {
   "cell_type": "code",
   "execution_count": 1,
   "id": "b67f9bef",
   "metadata": {
    "execution": {
     "iopub.execute_input": "2022-06-23T11:35:49.104339Z",
     "iopub.status.busy": "2022-06-23T11:35:49.103214Z",
     "iopub.status.idle": "2022-06-23T11:35:49.198770Z",
     "shell.execute_reply": "2022-06-23T11:35:49.197532Z"
    },
    "papermill": {
     "duration": 0.106049,
     "end_time": "2022-06-23T11:35:49.201866",
     "exception": false,
     "start_time": "2022-06-23T11:35:49.095817",
     "status": "completed"
    },
    "tags": []
   },
   "outputs": [
    {
     "name": "stdout",
     "output_type": "stream",
     "text": [
      "Setup Complete\n"
     ]
    }
   ],
   "source": [
    "from learntools.core import binder\n",
    "binder.bind(globals())\n",
    "from learntools.data_cleaning.ex4 import *\n",
    "print(\"Setup Complete\")"
   ]
  },
  {
   "cell_type": "markdown",
   "id": "45343dd3",
   "metadata": {
    "papermill": {
     "duration": 0.005339,
     "end_time": "2022-06-23T11:35:49.213353",
     "exception": false,
     "start_time": "2022-06-23T11:35:49.208014",
     "status": "completed"
    },
    "tags": []
   },
   "source": [
    "# Get our environment set up\n",
    "\n",
    "The first thing we'll need to do is load in the libraries we'll be using."
   ]
  },
  {
   "cell_type": "code",
   "execution_count": 2,
   "id": "08defcc6",
   "metadata": {
    "execution": {
     "iopub.execute_input": "2022-06-23T11:35:49.226430Z",
     "iopub.status.busy": "2022-06-23T11:35:49.225769Z",
     "iopub.status.idle": "2022-06-23T11:35:49.231570Z",
     "shell.execute_reply": "2022-06-23T11:35:49.230451Z"
    },
    "papermill": {
     "duration": 0.014752,
     "end_time": "2022-06-23T11:35:49.233818",
     "exception": false,
     "start_time": "2022-06-23T11:35:49.219066",
     "status": "completed"
    },
    "tags": []
   },
   "outputs": [],
   "source": [
    "# modules we'll use\n",
    "import pandas as pd\n",
    "import numpy as np\n",
    "\n",
    "# helpful character encoding module\n",
    "import chardet\n",
    "\n",
    "# set seed for reproducibility\n",
    "np.random.seed(0)"
   ]
  },
  {
   "cell_type": "markdown",
   "id": "628a431a",
   "metadata": {
    "papermill": {
     "duration": 0.005192,
     "end_time": "2022-06-23T11:35:49.244532",
     "exception": false,
     "start_time": "2022-06-23T11:35:49.239340",
     "status": "completed"
    },
    "tags": []
   },
   "source": [
    "# 1) What are encodings?\n",
    "\n",
    "You're working with a dataset composed of bytes.  Run the code cell below to print a sample entry."
   ]
  },
  {
   "cell_type": "code",
   "execution_count": 3,
   "id": "40805e64",
   "metadata": {
    "execution": {
     "iopub.execute_input": "2022-06-23T11:35:49.257222Z",
     "iopub.status.busy": "2022-06-23T11:35:49.256792Z",
     "iopub.status.idle": "2022-06-23T11:35:49.263247Z",
     "shell.execute_reply": "2022-06-23T11:35:49.261619Z"
    },
    "papermill": {
     "duration": 0.015927,
     "end_time": "2022-06-23T11:35:49.265890",
     "exception": false,
     "start_time": "2022-06-23T11:35:49.249963",
     "status": "completed"
    },
    "tags": []
   },
   "outputs": [
    {
     "name": "stdout",
     "output_type": "stream",
     "text": [
      "b'\\xa7A\\xa6n'\n",
      "data type: <class 'bytes'>\n"
     ]
    }
   ],
   "source": [
    "sample_entry = b'\\xa7A\\xa6n'\n",
    "print(sample_entry)\n",
    "print('data type:', type(sample_entry))"
   ]
  },
  {
   "cell_type": "markdown",
   "id": "bf7f64e4",
   "metadata": {
    "papermill": {
     "duration": 0.005488,
     "end_time": "2022-06-23T11:35:49.277003",
     "exception": false,
     "start_time": "2022-06-23T11:35:49.271515",
     "status": "completed"
    },
    "tags": []
   },
   "source": [
    "You notice that it doesn't use the standard UTF-8 encoding. \n",
    "\n",
    "Use the next code cell to create a variable `new_entry` that changes the encoding from `\"big5-tw\"` to `\"utf-8\"`.  `new_entry` should have the bytes datatype."
   ]
  },
  {
   "cell_type": "code",
   "execution_count": 4,
   "id": "c9e57da8",
   "metadata": {
    "execution": {
     "iopub.execute_input": "2022-06-23T11:35:49.289680Z",
     "iopub.status.busy": "2022-06-23T11:35:49.289225Z",
     "iopub.status.idle": "2022-06-23T11:35:49.300496Z",
     "shell.execute_reply": "2022-06-23T11:35:49.299684Z"
    },
    "papermill": {
     "duration": 0.020096,
     "end_time": "2022-06-23T11:35:49.302544",
     "exception": false,
     "start_time": "2022-06-23T11:35:49.282448",
     "status": "completed"
    },
    "tags": []
   },
   "outputs": [
    {
     "data": {
      "application/javascript": [
       "parent.postMessage({\"jupyterEvent\": \"custom.exercise_interaction\", \"data\": {\"outcomeType\": 1, \"valueTowardsCompletion\": 0.3333333333333333, \"interactionType\": 1, \"questionType\": 1, \"questionId\": \"1_EncodingsIntro\", \"learnToolsVersion\": \"0.3.4\", \"failureMessage\": \"\", \"exceptionClass\": \"\", \"trace\": \"\"}}, \"*\")"
      ],
      "text/plain": [
       "<IPython.core.display.Javascript object>"
      ]
     },
     "metadata": {},
     "output_type": "display_data"
    },
    {
     "data": {
      "text/markdown": [
       "<span style=\"color:#33cc33\">Correct</span>"
      ],
      "text/plain": [
       "Correct"
      ]
     },
     "metadata": {},
     "output_type": "display_data"
    }
   ],
   "source": [
    "sample_entry_after = sample_entry.decode(\"big5-tw\")\n",
    "new_entry = sample_entry_after.encode(\"utf-8\", errors = \"replace\")\n",
    "\n",
    "# Check your answer\n",
    "q1.check()"
   ]
  },
  {
   "cell_type": "code",
   "execution_count": 5,
   "id": "5aed8b46",
   "metadata": {
    "execution": {
     "iopub.execute_input": "2022-06-23T11:35:49.317434Z",
     "iopub.status.busy": "2022-06-23T11:35:49.316235Z",
     "iopub.status.idle": "2022-06-23T11:35:49.321978Z",
     "shell.execute_reply": "2022-06-23T11:35:49.320460Z"
    },
    "papermill": {
     "duration": 0.016348,
     "end_time": "2022-06-23T11:35:49.324684",
     "exception": false,
     "start_time": "2022-06-23T11:35:49.308336",
     "status": "completed"
    },
    "tags": []
   },
   "outputs": [],
   "source": [
    "# Lines below will give you a hint or solution code\n",
    "#q1.hint()\n",
    "#q1.solution()"
   ]
  },
  {
   "cell_type": "markdown",
   "id": "4257e4e0",
   "metadata": {
    "papermill": {
     "duration": 0.005729,
     "end_time": "2022-06-23T11:35:49.336667",
     "exception": false,
     "start_time": "2022-06-23T11:35:49.330938",
     "status": "completed"
    },
    "tags": []
   },
   "source": [
    "# 2) Reading in files with encoding problems\n",
    "\n",
    "Use the code cell below to read in this file at path `\"../input/fatal-police-shootings-in-the-us/PoliceKillingsUS.csv\"`.  \n",
    "\n",
    "Figure out what the correct encoding should be and read in the file to a DataFrame `police_killings`."
   ]
  },
  {
   "cell_type": "code",
   "execution_count": 6,
   "id": "475a2f52",
   "metadata": {
    "execution": {
     "iopub.execute_input": "2022-06-23T11:35:49.350387Z",
     "iopub.status.busy": "2022-06-23T11:35:49.349954Z",
     "iopub.status.idle": "2022-06-23T11:35:50.072497Z",
     "shell.execute_reply": "2022-06-23T11:35:50.071502Z"
    },
    "papermill": {
     "duration": 0.732791,
     "end_time": "2022-06-23T11:35:50.075426",
     "exception": false,
     "start_time": "2022-06-23T11:35:49.342635",
     "status": "completed"
    },
    "tags": []
   },
   "outputs": [
    {
     "name": "stdout",
     "output_type": "stream",
     "text": [
      "{'encoding': 'Windows-1252', 'confidence': 0.73, 'language': ''}\n"
     ]
    }
   ],
   "source": [
    "with open(\"../input/fatal-police-shootings-in-the-us/PoliceKillingsUS.csv\", 'rb') as rawdata:\n",
    "    result = chardet.detect(rawdata.read(30000))\n",
    "\n",
    "# check what the character encoding might be\n",
    "print(result)"
   ]
  },
  {
   "cell_type": "code",
   "execution_count": 7,
   "id": "d65cc68f",
   "metadata": {
    "execution": {
     "iopub.execute_input": "2022-06-23T11:35:50.094902Z",
     "iopub.status.busy": "2022-06-23T11:35:50.093589Z",
     "iopub.status.idle": "2022-06-23T11:35:50.127885Z",
     "shell.execute_reply": "2022-06-23T11:35:50.126498Z"
    },
    "papermill": {
     "duration": 0.04634,
     "end_time": "2022-06-23T11:35:50.130619",
     "exception": false,
     "start_time": "2022-06-23T11:35:50.084279",
     "status": "completed"
    },
    "tags": []
   },
   "outputs": [
    {
     "data": {
      "application/javascript": [
       "parent.postMessage({\"jupyterEvent\": \"custom.exercise_interaction\", \"data\": {\"outcomeType\": 1, \"valueTowardsCompletion\": 0.3333333333333333, \"interactionType\": 1, \"questionType\": 1, \"questionId\": \"2_ReadIn\", \"learnToolsVersion\": \"0.3.4\", \"failureMessage\": \"\", \"exceptionClass\": \"\", \"trace\": \"\"}}, \"*\")"
      ],
      "text/plain": [
       "<IPython.core.display.Javascript object>"
      ]
     },
     "metadata": {},
     "output_type": "display_data"
    },
    {
     "data": {
      "text/markdown": [
       "<span style=\"color:#33cc33\">Correct</span>"
      ],
      "text/plain": [
       "Correct"
      ]
     },
     "metadata": {},
     "output_type": "display_data"
    }
   ],
   "source": [
    "# TODO: Load in the DataFrame correctly.\n",
    "police_killings = pd.read_csv(\"../input/fatal-police-shootings-in-the-us/PoliceKillingsUS.csv\", encoding = \"Windows-1252\")\n",
    "\n",
    "# Check your answer\n",
    "q2.check()"
   ]
  },
  {
   "cell_type": "markdown",
   "id": "bfce082d",
   "metadata": {
    "papermill": {
     "duration": 0.005901,
     "end_time": "2022-06-23T11:35:50.142744",
     "exception": false,
     "start_time": "2022-06-23T11:35:50.136843",
     "status": "completed"
    },
    "tags": []
   },
   "source": [
    "Feel free to use any additional code cells for supplemental work.  To get credit for finishing this question, you'll need to run `q2.check()` and get a result of **Correct**."
   ]
  },
  {
   "cell_type": "code",
   "execution_count": 8,
   "id": "c3d74320",
   "metadata": {
    "execution": {
     "iopub.execute_input": "2022-06-23T11:35:50.157785Z",
     "iopub.status.busy": "2022-06-23T11:35:50.156830Z",
     "iopub.status.idle": "2022-06-23T11:35:50.162627Z",
     "shell.execute_reply": "2022-06-23T11:35:50.161520Z"
    },
    "papermill": {
     "duration": 0.015981,
     "end_time": "2022-06-23T11:35:50.164931",
     "exception": false,
     "start_time": "2022-06-23T11:35:50.148950",
     "status": "completed"
    },
    "tags": []
   },
   "outputs": [],
   "source": [
    "# (Optional) Use this code cell for any additional work."
   ]
  },
  {
   "cell_type": "code",
   "execution_count": 9,
   "id": "f99522eb",
   "metadata": {
    "execution": {
     "iopub.execute_input": "2022-06-23T11:35:50.180994Z",
     "iopub.status.busy": "2022-06-23T11:35:50.180529Z",
     "iopub.status.idle": "2022-06-23T11:35:50.186042Z",
     "shell.execute_reply": "2022-06-23T11:35:50.184463Z"
    },
    "papermill": {
     "duration": 0.018762,
     "end_time": "2022-06-23T11:35:50.189923",
     "exception": false,
     "start_time": "2022-06-23T11:35:50.171161",
     "status": "completed"
    },
    "tags": []
   },
   "outputs": [],
   "source": [
    "# Lines below will give you a hint or solution code\n",
    "#q2.hint()\n",
    "#q2.solution()"
   ]
  },
  {
   "cell_type": "markdown",
   "id": "633e6e91",
   "metadata": {
    "papermill": {
     "duration": 0.006137,
     "end_time": "2022-06-23T11:35:50.204214",
     "exception": false,
     "start_time": "2022-06-23T11:35:50.198077",
     "status": "completed"
    },
    "tags": []
   },
   "source": [
    "# 3) Saving your files with UTF-8 encoding\n",
    "\n",
    "Save a version of the police killings dataset to CSV with UTF-8 encoding.  Your answer will be marked correct after saving this file.  \n",
    "\n",
    "Note: When using the `to_csv()` method, supply only the name of the file (e.g., `\"my_file.csv\"`).  This saves the file at the filepath `\"/kaggle/working/my_file.csv\"`."
   ]
  },
  {
   "cell_type": "code",
   "execution_count": 10,
   "id": "b232e052",
   "metadata": {
    "execution": {
     "iopub.execute_input": "2022-06-23T11:35:50.220678Z",
     "iopub.status.busy": "2022-06-23T11:35:50.220162Z",
     "iopub.status.idle": "2022-06-23T11:35:50.265112Z",
     "shell.execute_reply": "2022-06-23T11:35:50.263761Z"
    },
    "papermill": {
     "duration": 0.056172,
     "end_time": "2022-06-23T11:35:50.267655",
     "exception": false,
     "start_time": "2022-06-23T11:35:50.211483",
     "status": "completed"
    },
    "tags": []
   },
   "outputs": [
    {
     "data": {
      "application/javascript": [
       "parent.postMessage({\"jupyterEvent\": \"custom.exercise_interaction\", \"data\": {\"outcomeType\": 1, \"valueTowardsCompletion\": 0.3333333333333333, \"interactionType\": 1, \"questionType\": 2, \"questionId\": \"3_SaveCSV\", \"learnToolsVersion\": \"0.3.4\", \"failureMessage\": \"\", \"exceptionClass\": \"\", \"trace\": \"\"}}, \"*\")"
      ],
      "text/plain": [
       "<IPython.core.display.Javascript object>"
      ]
     },
     "metadata": {},
     "output_type": "display_data"
    },
    {
     "data": {
      "text/markdown": [
       "<span style=\"color:#33cc33\">Correct</span>"
      ],
      "text/plain": [
       "Correct"
      ]
     },
     "metadata": {},
     "output_type": "display_data"
    }
   ],
   "source": [
    "# TODO: Save the police killings dataset to CSV\n",
    "police_killings.to_csv(\"fatal_police_shootings_utf-8.csv\")\n",
    "\n",
    "# Check your answer\n",
    "q3.check()"
   ]
  },
  {
   "cell_type": "code",
   "execution_count": 11,
   "id": "3beb4dff",
   "metadata": {
    "execution": {
     "iopub.execute_input": "2022-06-23T11:35:50.283510Z",
     "iopub.status.busy": "2022-06-23T11:35:50.282370Z",
     "iopub.status.idle": "2022-06-23T11:35:50.287309Z",
     "shell.execute_reply": "2022-06-23T11:35:50.286575Z"
    },
    "papermill": {
     "duration": 0.01522,
     "end_time": "2022-06-23T11:35:50.289427",
     "exception": false,
     "start_time": "2022-06-23T11:35:50.274207",
     "status": "completed"
    },
    "tags": []
   },
   "outputs": [],
   "source": [
    "# Lines below will give you a hint or solution code\n",
    "#q3.hint()\n",
    "#q3.solution()"
   ]
  },
  {
   "cell_type": "markdown",
   "id": "215df1ff",
   "metadata": {
    "papermill": {
     "duration": 0.006567,
     "end_time": "2022-06-23T11:35:50.302551",
     "exception": false,
     "start_time": "2022-06-23T11:35:50.295984",
     "status": "completed"
    },
    "tags": []
   },
   "source": [
    "# (Optional) More practice\n",
    "\n",
    "Check out [this dataset of files in different character encodings](https://www.kaggle.com/rtatman/character-encoding-examples). Can you read in all the files with their original encodings and them save them out as UTF-8 files?\n",
    "\n",
    "If you have a file that's in UTF-8 but has just a couple of weird-looking characters in it, you can try out the [ftfy module](https://ftfy.readthedocs.io/en/latest/#) and see if it helps. \n",
    "\n",
    "# Keep going\n",
    "\n",
    "In the final lesson, learn how to [**clean up inconsistent text entries**](https://www.kaggle.com/alexisbcook/inconsistent-data-entry) in your dataset."
   ]
  },
  {
   "cell_type": "markdown",
   "id": "a2db104d",
   "metadata": {
    "papermill": {
     "duration": 0.006216,
     "end_time": "2022-06-23T11:35:50.315439",
     "exception": false,
     "start_time": "2022-06-23T11:35:50.309223",
     "status": "completed"
    },
    "tags": []
   },
   "source": [
    "---\n",
    "\n",
    "\n",
    "\n",
    "\n",
    "*Have questions or comments? Visit the [course discussion forum](https://www.kaggle.com/learn/data-cleaning/discussion) to chat with other learners.*"
   ]
  }
 ],
 "metadata": {
  "kernelspec": {
   "display_name": "Python 3",
   "language": "python",
   "name": "python3"
  },
  "language_info": {
   "codemirror_mode": {
    "name": "ipython",
    "version": 3
   },
   "file_extension": ".py",
   "mimetype": "text/x-python",
   "name": "python",
   "nbconvert_exporter": "python",
   "pygments_lexer": "ipython3",
   "version": "3.7.12"
  },
  "papermill": {
   "default_parameters": {},
   "duration": 12.806968,
   "end_time": "2022-06-23T11:35:51.043925",
   "environment_variables": {},
   "exception": null,
   "input_path": "__notebook__.ipynb",
   "output_path": "__notebook__.ipynb",
   "parameters": {},
   "start_time": "2022-06-23T11:35:38.236957",
   "version": "2.3.4"
  }
 },
 "nbformat": 4,
 "nbformat_minor": 5
}
